{
 "cells": [
  {
   "cell_type": "markdown",
   "id": "73a0c454",
   "metadata": {},
   "source": [
    "**AMAT 168: MATHEMATICAL MODELS IN OPERATIONS RESEARCH II** | *Davao Jeepney Route*\n",
    "\\\n",
    "ACMAD, Jenanne | BAJO, Jifervel Monalee | PARAGOSO, Vince Nijel | PAREJA, Sweet Psyche"
   ]
  },
  {
   "cell_type": "markdown",
   "id": "29ba0fcd",
   "metadata": {},
   "source": [
    "**Problem**:\n",
    "You are in front of the Holy Spirit Community Hospital in Tugbok, Davao City, planning to reach Agdao Public Market by jeep. You want to know the cheapest (and not necessarily the most convenient) way to get there.\n",
    "\n",
    "**Legend** \\\n",
    "HS - Holy Spirit Community Hospital \n",
    "\\\n",
    "MC - Matina Crossing \n",
    "\\\n",
    "SE - SM City Ecoland\n",
    "\\\n",
    "SD - Corner Sandawa \n",
    "\\\n",
    "RX - Roxas Avenue\n",
    "\\\n",
    "MP - Magsaysay Park\n",
    "\\\n",
    "AG - Agdao Public Market"
   ]
  },
  {
   "cell_type": "code",
   "execution_count": 1,
   "id": "ef56a9f8",
   "metadata": {},
   "outputs": [
    {
     "name": "stdout",
     "output_type": "stream",
     "text": [
      "Visited vertex: HS, cost: 0\n",
      "Current cost table: {'HS': 0, 'MC': 22.8, 'SE': 26.4, 'SD': 28.2, 'RX': 31.8, 'MP': inf, 'AG': inf}\n",
      "\n",
      "Visited vertex: MC, cost: 22.8\n",
      "Current cost table: {'HS': 0, 'MC': 22.8, 'SE': 26.4, 'SD': 28.2, 'RX': 31.8, 'MP': 42.0, 'AG': 44.8}\n",
      "\n",
      "Visited vertex: SE, cost: 26.4\n",
      "Current cost table: {'HS': 0, 'MC': 22.8, 'SE': 26.4, 'SD': 28.2, 'RX': 31.8, 'MP': 42.0, 'AG': 44.8}\n",
      "\n",
      "Visited vertex: SD, cost: 28.2\n",
      "Current cost table: {'HS': 0, 'MC': 22.8, 'SE': 26.4, 'SD': 28.2, 'RX': 31.8, 'MP': 42.0, 'AG': 44.8}\n",
      "\n",
      "Visited vertex: RX, cost: 31.8\n",
      "Current cost table: {'HS': 0, 'MC': 22.8, 'SE': 26.4, 'SD': 28.2, 'RX': 31.8, 'MP': 42.0, 'AG': 43.8}\n",
      "\n",
      "Visited vertex: MP, cost: 42.0\n",
      "Current cost table: {'HS': 0, 'MC': 22.8, 'SE': 26.4, 'SD': 28.2, 'RX': 31.8, 'MP': 42.0, 'AG': 43.8}\n",
      "\n",
      "Visited vertex: AG, cost: 43.8\n",
      "\n",
      "Cheapest cost from HS to AG: 43.8\n",
      "Cheapest path: ['HS', 'RX', 'AG']\n"
     ]
    }
   ],
   "source": [
    "import heapq\n",
    "import math\n",
    "\n",
    "# Define the graph as an adjacency list\n",
    "graph = {\n",
    "    'HS': [('MC', 22.8), ('SE', 26.4), ('SD', 28.2), ('RX', 31.8)],\n",
    "    'MC': [('SE', 12.0), ('SD', 12.0), ('RX', 15.24), ('MP', 19.2), ('AG', 22.0)],\n",
    "    'SE': [('SD', 12.0), ('RX', 12), ('MP', 15.6)],\n",
    "    'SD': [('RX', 12.0), ('MP', 13.8)],\n",
    "    'RX': [('MP', 12.0), ('AG', 12.0)],\n",
    "    'MP': [('AG', 12.0)],\n",
    "    'AG': []\n",
    "}\n",
    "\n",
    "# Define a function to find the shortest path using Dijkstra's algorithm\n",
    "def dijkstra(graph, start, end):\n",
    "    cost_T = {vertex: math.inf for vertex in graph}  # Initialize all costs to infinity\n",
    "    cost_T[start] = 0  # Set the cost of the start vertex to 0\n",
    "    heap = [(0, start)]  # Create a min-heap with the start vertex\n",
    "    visited = set()  # Create a set to keep track of visited vertices\n",
    "    prev = {vertex: None for vertex in graph}  # Initialize all previous vertices to None\n",
    "    while heap:\n",
    "        (current_cost, current_vertex) = heapq.heappop(heap)  # Pop the vertex with the smallest cost\n",
    "        if current_vertex in visited:\n",
    "            continue  # Skip this vertex if it has already been visited\n",
    "        visited.add(current_vertex)  # Mark this vertex as visited\n",
    "        print(f\"Visited vertex: {current_vertex}, cost: {current_cost}\")  # Print the current vertex and its cost\n",
    "        if current_vertex == end:\n",
    "            break  # Stop searching if we've reached the end vertex\n",
    "        for (neighbor, weight) in graph[current_vertex]:  # For each neighbor of the current vertex\n",
    "            cost = current_cost + weight\n",
    "            if cost < cost_T[neighbor]:  # If this cost is cheaper than the one we already know\n",
    "                cost_T[neighbor] = cost  # Update the cost to this neighbor\n",
    "                prev[neighbor] = current_vertex  # Update the previous vertex to this neighbor\n",
    "                heapq.heappush(heap, (cost, neighbor))  # Add it to the heap\n",
    "        print(f\"Current cost table: {cost_T}\\n\")  # Print the current cost table after each iteration\n",
    "    path = []\n",
    "    vertex = end\n",
    "    while vertex is not None:\n",
    "        path.append(vertex)\n",
    "        vertex = prev[vertex]\n",
    "    path.reverse()\n",
    "    return cost_T[end], path\n",
    "\n",
    "# Test the function with the graph defined above\n",
    "start = 'HS'\n",
    "end = 'AG'\n",
    "cheapest_cost, cheapest_path = dijkstra(graph, start, end)\n",
    "print(f\"\\nCheapest cost from {start} to {end}: {cheapest_cost}\")  # Print the cheapest cost\n",
    "print(f\"Cheapest path: {cheapest_path}\")"
   ]
  },
  {
   "cell_type": "code",
   "execution_count": null,
   "id": "330f11ef",
   "metadata": {},
   "outputs": [],
   "source": []
  }
 ],
 "metadata": {
  "kernelspec": {
   "display_name": "Python 3 (ipykernel)",
   "language": "python",
   "name": "python3"
  },
  "language_info": {
   "codemirror_mode": {
    "name": "ipython",
    "version": 3
   },
   "file_extension": ".py",
   "mimetype": "text/x-python",
   "name": "python",
   "nbconvert_exporter": "python",
   "pygments_lexer": "ipython3",
   "version": "3.9.12"
  }
 },
 "nbformat": 4,
 "nbformat_minor": 5
}
